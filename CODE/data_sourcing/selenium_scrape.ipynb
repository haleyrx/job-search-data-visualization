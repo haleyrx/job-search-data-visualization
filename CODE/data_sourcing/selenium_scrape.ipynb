{
 "cells": [
  {
   "cell_type": "markdown",
   "metadata": {},
   "source": [
    "## Import packages"
   ]
  },
  {
   "cell_type": "code",
   "execution_count": 1,
   "metadata": {},
   "outputs": [],
   "source": [
    "from selenium.webdriver.common.by import By\n",
    "from selenium import webdriver\n",
    "from selenium.webdriver.common.keys import Keys\n",
    "\n",
    "from selenium.webdriver.support.ui import WebDriverWait\n",
    "from selenium.webdriver.support import expected_conditions as EC\n",
    "from selenium.webdriver.common.by import By\n",
    "from selenium.webdriver.chrome.options import Options\n",
    "\n",
    "import time\n",
    "import pandas as pd\n",
    "import numpy as np"
   ]
  },
  {
   "cell_type": "markdown",
   "metadata": {},
   "source": [
    "## Selenium scraper (DON'T USE, USE SEGMENTED CODE BELOW)"
   ]
  },
  {
   "cell_type": "markdown",
   "metadata": {},
   "source": [
    "#### Change LOCATION, JOBS, and PAGES variables as needed"
   ]
  },
  {
   "cell_type": "code",
   "execution_count": 2,
   "metadata": {},
   "outputs": [],
   "source": [
    "LOCATIONS = ['Seattle, WA']\n",
    "LOCATIONS2 = ['Washington DC', 'Denver, CO', 'Chicago, IL', 'San Diego, CA', \n",
    "             'Portland, OR', 'Boston, MA', 'Dallas, TX', 'Phoenix, AZ']\n",
    "JOBS = ['data science']\n",
    "PAGES = 5\n",
    "\n",
    "titles = []\n",
    "companies = []\n",
    "locations = []\n",
    "links = []\n",
    "reviews = []\n",
    "salaries = []\n",
    "descriptions = []"
   ]
  },
  {
   "cell_type": "markdown",
   "metadata": {},
   "source": [
    "#### Intialize driver and scrape \n",
    "Runs in headless mode. Loops through all locations and jobs and appends fields to corresponding arrays."
   ]
  },
  {
   "cell_type": "code",
   "execution_count": 27,
   "metadata": {},
   "outputs": [],
   "source": [
    "# Driver initialization\n",
    "\n",
    "options = Options()\n",
    "options.headless = False\n",
    "driver = webdriver.Chrome(options=options)\n",
    "driver.get('https://indeed.com')\n",
    "\n",
    "initial_search_button = driver.find_element_by_xpath('//*[@id=\"whatWhereFormId\"]/div[3]/button')\n",
    "initial_search_button.click()\n"
   ]
  },
  {
   "cell_type": "code",
   "execution_count": null,
   "metadata": {},
   "outputs": [],
   "source": [
    "for l in LOCATIONS:\n",
    "    for j in JOBS:\n",
    "        \n",
    "        starttime = time.time()\n",
    "        print('Searching {} roles in {}'.format(j, l))\n",
    "        \n",
    "        \n",
    "        advanced_search = driver.find_element_by_xpath(\"//a[contains(text(),'Advanced Job Search')]\")\n",
    "        advanced_search.click()\n",
    "\n",
    "        #driver.implicitly_wait(3)\n",
    "        search_job = driver.find_element_by_xpath('//input[@id=\"as_and\"]')\n",
    "        search_job.clear()\n",
    "        search_job.send_keys([j])\n",
    "\n",
    "        search_loc = driver.find_element_by_xpath('//*[@id=\"where\"]')\n",
    "        search_loc.clear()\n",
    "        search_loc.send_keys([l])\n",
    "\n",
    "        display_limit = driver.find_element_by_xpath('//select[@id=\"limit\"]//option[@value=\"30\"]')\n",
    "        display_limit.click()\n",
    "        sort_option = driver.find_element_by_xpath('//select[@id=\"sort\"]//option[@value=\"date\"]')\n",
    "        sort_option.click()\n",
    "        search_button = driver.find_element_by_xpath('//*[@id=\"fj\"]')\n",
    "        search_button.click()\n",
    "        \n",
    "        try:\n",
    "            close_popup = driver.find_element_by_xpath('//*[@id=\"popover-x\"]')\n",
    "            close_popup.click()\n",
    "        except: \n",
    "            pass\n",
    "            \n",
    "        driver.implicitly_wait(2)\n",
    "        driver.refresh()\n",
    "        \n",
    "        \n",
    "        \n",
    "        for i in range(0, PAGES):\n",
    "            job_card = driver.find_elements_by_xpath('//div[contains(@class,\"clickcard\")]')\n",
    "\n",
    "            for job in job_card:\n",
    "                try:\n",
    "                    review = job.find_element_by_xpath('.//span[@class=\"ratingsContent\"]').text\n",
    "                except:\n",
    "                    review = \"None\"\n",
    "                reviews.append(review)\n",
    "\n",
    "                try:\n",
    "                    salary = job.find_element_by_xpath('.//span[@class=\"salaryText\"]').text\n",
    "                except:\n",
    "                    salary = \"None\"    \n",
    "                salaries.append(salary)\n",
    "\n",
    "                try:\n",
    "                    title  = job.find_element_by_xpath('.//h2[@class=\"title\"]//a').text\n",
    "                except:\n",
    "                    title = job.find_element_by_xpath('.//h2[@class=\"title\"]//a').get_attribute(name=\"title\")\n",
    "                titles.append(title)\n",
    "\n",
    "                links.append(job.find_element_by_xpath('.//h2[@class=\"title\"]//a').get_attribute(name=\"href\"))\n",
    "\n",
    "                companies.append(job.find_element_by_xpath('.//span[@class=\"company\"]').text)\n",
    "\n",
    "                # set location to parameter passed in function call\n",
    "                locations.append(l)\n",
    "\n",
    "            try:\n",
    "                next_page = driver.find_element_by_xpath('//a[@aria-label={}]//span[@class=\"pn\"]'.format(i+2))\n",
    "                next_page.click()\n",
    "            except:\n",
    "                next_page = driver.find_element_by_xpath('//a[@aria-label=\"Next\"]//span[@class=\"np\"]')\n",
    "                next_page.click()\n",
    "        \n",
    "        \n",
    "        \n",
    "        endtime = time.time()\n",
    "        process_time = round((endtime-starttime)/60,2)\n",
    "        print(\"Processing Time: {} min\".format(process_time))\n",
    "\n"
   ]
  },
  {
   "cell_type": "markdown",
   "metadata": {},
   "source": [
    "## Segmented Script\n",
    "Prevent errors in script"
   ]
  },
  {
   "cell_type": "code",
   "execution_count": 11,
   "metadata": {},
   "outputs": [],
   "source": [
    "LOCATION = 'Seattle, WA'\n",
    "JOB = 'data science'\n",
    "PAGES = 5\n",
    "\n",
    "titles = []\n",
    "companies = []\n",
    "locations = []\n",
    "links = []\n",
    "reviews = []\n",
    "salaries = []\n",
    "descriptions = []"
   ]
  },
  {
   "cell_type": "code",
   "execution_count": 6,
   "metadata": {},
   "outputs": [],
   "source": [
    "\n",
    "try:\n",
    "    close_popup = driver.find_element_by_xpath('//*[@id=\"popover-x\"]')\n",
    "    close_popup.click()\n",
    "except: \n",
    "    pass"
   ]
  },
  {
   "cell_type": "code",
   "execution_count": 9,
   "metadata": {},
   "outputs": [],
   "source": [
    "advanced_search = driver.find_element_by_xpath(\"//a[contains(text(),'Advanced Job Search')]\")\n",
    "advanced_search.click()"
   ]
  },
  {
   "cell_type": "code",
   "execution_count": 12,
   "metadata": {},
   "outputs": [],
   "source": [
    "search_job = driver.find_element_by_xpath('//input[@id=\"as_and\"]')\n",
    "search_job.clear()\n",
    "search_job.send_keys([JOB])\n",
    "\n",
    "search_loc = driver.find_element_by_xpath('//*[@id=\"where\"]')\n",
    "search_loc.clear()\n",
    "search_loc.send_keys([LOCATION])\n",
    "\n",
    "display_limit = driver.find_element_by_xpath('//select[@id=\"limit\"]//option[@value=\"30\"]')\n",
    "display_limit.click()\n",
    "sort_option = driver.find_element_by_xpath('//select[@id=\"sort\"]//option[@value=\"date\"]')\n",
    "sort_option.click()\n",
    "search_button = driver.find_element_by_xpath('//*[@id=\"fj\"]')\n",
    "search_button.click()"
   ]
  },
  {
   "cell_type": "code",
   "execution_count": 14,
   "metadata": {},
   "outputs": [],
   "source": [
    "for i in range(0, PAGES):\n",
    "    job_card = driver.find_elements_by_xpath('//div[contains(@class,\"clickcard\")]')\n",
    "\n",
    "    for job in job_card:\n",
    "        try:\n",
    "            review = job.find_element_by_xpath('.//span[@class=\"ratingsContent\"]').text\n",
    "        except:\n",
    "            review = \"None\"\n",
    "        reviews.append(review)\n",
    "\n",
    "        try:\n",
    "            salary = job.find_element_by_xpath('.//span[@class=\"salaryText\"]').text\n",
    "        except:\n",
    "            salary = \"None\"    \n",
    "        salaries.append(salary)\n",
    "\n",
    "        try:\n",
    "            title  = job.find_element_by_xpath('.//h2[@class=\"title\"]//a').text\n",
    "        except:\n",
    "            title = job.find_element_by_xpath('.//h2[@class=\"title\"]//a').get_attribute(name=\"title\")\n",
    "        titles.append(title)\n",
    "\n",
    "        links.append(job.find_element_by_xpath('.//h2[@class=\"title\"]//a').get_attribute(name=\"href\"))\n",
    "\n",
    "        companies.append(job.find_element_by_xpath('.//span[@class=\"company\"]').text)\n",
    "\n",
    "        # set location to parameter passed in function call\n",
    "        locations.append(LOCATION)\n",
    "\n",
    "    try:\n",
    "        next_page = driver.find_element_by_xpath('//a[@aria-label={}]//span[@class=\"pn\"]'.format(i+2))\n",
    "        next_page.click()\n",
    "    except:\n",
    "        next_page = driver.find_element_by_xpath('//a[@aria-label=\"Next\"]//span[@class=\"np\"]')\n",
    "        next_page.click()"
   ]
  },
  {
   "cell_type": "markdown",
   "metadata": {},
   "source": [
    "#### Loop through URLs to get job descriptions"
   ]
  },
  {
   "cell_type": "code",
   "execution_count": 29,
   "metadata": {},
   "outputs": [],
   "source": [
    "descriptions=[]\n",
    "for link in links:\n",
    "    driver.get(link)\n",
    "    try:\n",
    "        jd = driver.find_element_by_xpath('//div[@id=\"jobDescriptionText\"]').text\n",
    "    except:\n",
    "        jd = 'None'\n",
    "    jd = driver.find_element_by_xpath('//div[@id=\"jobDescriptionText\"]').text\n",
    "    descriptions.append(jd)"
   ]
  },
  {
   "cell_type": "code",
   "execution_count": 30,
   "metadata": {},
   "outputs": [],
   "source": [
    "driver.quit()"
   ]
  },
  {
   "cell_type": "markdown",
   "metadata": {},
   "source": [
    "#### Save results to csv "
   ]
  },
  {
   "cell_type": "code",
   "execution_count": 38,
   "metadata": {},
   "outputs": [],
   "source": [
    "locations = locations.append(LOCATION)\n",
    "df_output = pd.DataFrame()\n",
    "df_output['Title'] = titles\n",
    "df_output['Company'] = companies\n",
    "df_output['Location'] = locations\n",
    "df_output['Link'] = links\n",
    "df_output['Review'] = reviews\n",
    "df_output['Salary'] = salaries\n",
    "df_output['Description'] = descriptions\n",
    "\n",
    "df_output.to_csv('./data/selenium/'+ LOCATION[:LOCATION.find(',')].lower() +'.csv')"
   ]
  },
  {
   "cell_type": "markdown",
   "metadata": {},
   "source": [
    "## Concatenate all csvs together"
   ]
  },
  {
   "cell_type": "code",
   "execution_count": 45,
   "metadata": {},
   "outputs": [],
   "source": [
    "# Find all csvs \n",
    "import os, fnmatch\n",
    "\n",
    "def find(pattern, path):\n",
    "    result = []\n",
    "    for root, dirs, files in os.walk(path):\n",
    "        for name in files:\n",
    "            if fnmatch.fnmatch(name, pattern):\n",
    "                result.append(os.path.join(root, name))\n",
    "    return result\n",
    "\n",
    "filenames = find('*.csv', './data/selenium/')"
   ]
  },
  {
   "cell_type": "code",
   "execution_count": 46,
   "metadata": {},
   "outputs": [],
   "source": [
    "#combine all files in the list\n",
    "combined_csv = pd.concat([pd.read_csv(f) for f in filenames])\n",
    "#export to csv\n",
    "combined_csv.to_csv('./data/selenium/all_jobs.csv', index=False, encoding='utf-8-sig')"
   ]
  },
  {
   "cell_type": "code",
   "execution_count": 47,
   "metadata": {},
   "outputs": [
    {
     "data": {
      "text/html": [
       "<div>\n",
       "<style scoped>\n",
       "    .dataframe tbody tr th:only-of-type {\n",
       "        vertical-align: middle;\n",
       "    }\n",
       "\n",
       "    .dataframe tbody tr th {\n",
       "        vertical-align: top;\n",
       "    }\n",
       "\n",
       "    .dataframe thead th {\n",
       "        text-align: right;\n",
       "    }\n",
       "</style>\n",
       "<table border=\"1\" class=\"dataframe\">\n",
       "  <thead>\n",
       "    <tr style=\"text-align: right;\">\n",
       "      <th></th>\n",
       "      <th>Unnamed: 0</th>\n",
       "      <th>Title</th>\n",
       "      <th>Company</th>\n",
       "      <th>Location</th>\n",
       "      <th>Link</th>\n",
       "      <th>Review</th>\n",
       "      <th>Salary</th>\n",
       "      <th>Description</th>\n",
       "    </tr>\n",
       "  </thead>\n",
       "  <tbody>\n",
       "    <tr>\n",
       "      <th>0</th>\n",
       "      <td>0</td>\n",
       "      <td>Machine Learning Engineer - Intern</td>\n",
       "      <td>NXP Semiconductors</td>\n",
       "      <td>San Francisco, CA</td>\n",
       "      <td>https://www.indeed.com/rc/clk?jk=eba29634073e4...</td>\n",
       "      <td>3.8</td>\n",
       "      <td>None</td>\n",
       "      <td>NXP Semiconductors N.V. (NASDAQ: NXPI) enables...</td>\n",
       "    </tr>\n",
       "    <tr>\n",
       "      <th>1</th>\n",
       "      <td>1</td>\n",
       "      <td>Machine Learning Compiler Optimization Enginee...</td>\n",
       "      <td>Advanced Micro Devices, Inc.</td>\n",
       "      <td>San Francisco, CA</td>\n",
       "      <td>https://www.indeed.com/rc/clk?jk=eeb68b20aca75...</td>\n",
       "      <td>3.8</td>\n",
       "      <td>None</td>\n",
       "      <td>What you do at AMD changes everything\\nAt AMD,...</td>\n",
       "    </tr>\n",
       "    <tr>\n",
       "      <th>2</th>\n",
       "      <td>2</td>\n",
       "      <td>Senior Machine Learning Engineer - Activision ...</td>\n",
       "      <td>King.com</td>\n",
       "      <td>San Francisco, CA</td>\n",
       "      <td>https://www.indeed.com/rc/clk?jk=8b00dc341998e...</td>\n",
       "      <td>None</td>\n",
       "      <td>None</td>\n",
       "      <td>Craft:\\nTechnology &amp; Development\\nJob Descript...</td>\n",
       "    </tr>\n",
       "    <tr>\n",
       "      <th>3</th>\n",
       "      <td>3</td>\n",
       "      <td>Data Engineer - Opportunity for Working Remote...</td>\n",
       "      <td>VMware</td>\n",
       "      <td>San Francisco, CA</td>\n",
       "      <td>https://www.indeed.com/rc/clk?jk=6477612882753...</td>\n",
       "      <td>4.0</td>\n",
       "      <td>None</td>\n",
       "      <td>The Elevator Pitch: Why will you enjoy this ne...</td>\n",
       "    </tr>\n",
       "    <tr>\n",
       "      <th>4</th>\n",
       "      <td>4</td>\n",
       "      <td>Director, Risk Management Technology–Data Office</td>\n",
       "      <td>KPMG</td>\n",
       "      <td>San Francisco, CA</td>\n",
       "      <td>https://www.indeed.com/rc/clk?jk=4910e796eb73c...</td>\n",
       "      <td>4.0</td>\n",
       "      <td>None</td>\n",
       "      <td>Known for being a great place to work and buil...</td>\n",
       "    </tr>\n",
       "  </tbody>\n",
       "</table>\n",
       "</div>"
      ],
      "text/plain": [
       "   Unnamed: 0                                              Title  \\\n",
       "0           0                 Machine Learning Engineer - Intern   \n",
       "1           1  Machine Learning Compiler Optimization Enginee...   \n",
       "2           2  Senior Machine Learning Engineer - Activision ...   \n",
       "3           3  Data Engineer - Opportunity for Working Remote...   \n",
       "4           4   Director, Risk Management Technology–Data Office   \n",
       "\n",
       "                        Company           Location  \\\n",
       "0            NXP Semiconductors  San Francisco, CA   \n",
       "1  Advanced Micro Devices, Inc.  San Francisco, CA   \n",
       "2                      King.com  San Francisco, CA   \n",
       "3                        VMware  San Francisco, CA   \n",
       "4                          KPMG  San Francisco, CA   \n",
       "\n",
       "                                                Link Review Salary  \\\n",
       "0  https://www.indeed.com/rc/clk?jk=eba29634073e4...    3.8   None   \n",
       "1  https://www.indeed.com/rc/clk?jk=eeb68b20aca75...    3.8   None   \n",
       "2  https://www.indeed.com/rc/clk?jk=8b00dc341998e...   None   None   \n",
       "3  https://www.indeed.com/rc/clk?jk=6477612882753...    4.0   None   \n",
       "4  https://www.indeed.com/rc/clk?jk=4910e796eb73c...    4.0   None   \n",
       "\n",
       "                                         Description  \n",
       "0  NXP Semiconductors N.V. (NASDAQ: NXPI) enables...  \n",
       "1  What you do at AMD changes everything\\nAt AMD,...  \n",
       "2  Craft:\\nTechnology & Development\\nJob Descript...  \n",
       "3  The Elevator Pitch: Why will you enjoy this ne...  \n",
       "4  Known for being a great place to work and buil...  "
      ]
     },
     "execution_count": 47,
     "metadata": {},
     "output_type": "execute_result"
    }
   ],
   "source": [
    "df_all = pd.read_csv('./data/selenium/all_jobs.csv', encoding='utf-8-sig')\n",
    "df_all.head()\n"
   ]
  },
  {
   "cell_type": "code",
   "execution_count": 52,
   "metadata": {},
   "outputs": [
    {
     "data": {
      "text/plain": [
       "49"
      ]
     },
     "execution_count": 52,
     "metadata": {},
     "output_type": "execute_result"
    }
   ],
   "source": [
    "df_all['Salary'] =df_all['Salary'].replace('None', np.nan)\n",
    "df_salaries = df_all.dropna(axis=0, subset=['Salary'])\n"
   ]
  },
  {
   "cell_type": "code",
   "execution_count": 53,
   "metadata": {},
   "outputs": [],
   "source": [
    "df_salaries.to_csv('./data/selenium/jobs_with_salaries.csv', index=False, encoding='utf-8-sig')"
   ]
  },
  {
   "cell_type": "code",
   "execution_count": null,
   "metadata": {},
   "outputs": [],
   "source": []
  }
 ],
 "metadata": {
  "kernelspec": {
   "display_name": "Python (jobs_project)",
   "language": "python",
   "name": "jobs_project"
  },
  "language_info": {
   "codemirror_mode": {
    "name": "ipython",
    "version": 3
   },
   "file_extension": ".py",
   "mimetype": "text/x-python",
   "name": "python",
   "nbconvert_exporter": "python",
   "pygments_lexer": "ipython3",
   "version": "3.9.2"
  },
  "toc": {
   "base_numbering": 1,
   "nav_menu": {},
   "number_sections": true,
   "sideBar": true,
   "skip_h1_title": false,
   "title_cell": "Table of Contents",
   "title_sidebar": "Contents",
   "toc_cell": false,
   "toc_position": {},
   "toc_section_display": true,
   "toc_window_display": true
  },
  "varInspector": {
   "cols": {
    "lenName": "20",
    "lenType": 16,
    "lenVar": 40
   },
   "kernels_config": {
    "python": {
     "delete_cmd_postfix": "",
     "delete_cmd_prefix": "del ",
     "library": "var_list.py",
     "varRefreshCmd": "print(var_dic_list())"
    },
    "r": {
     "delete_cmd_postfix": ") ",
     "delete_cmd_prefix": "rm(",
     "library": "var_list.r",
     "varRefreshCmd": "cat(var_dic_list()) "
    }
   },
   "types_to_exclude": [
    "module",
    "function",
    "builtin_function_or_method",
    "instance",
    "_Feature"
   ],
   "window_display": true
  }
 },
 "nbformat": 4,
 "nbformat_minor": 4
}
